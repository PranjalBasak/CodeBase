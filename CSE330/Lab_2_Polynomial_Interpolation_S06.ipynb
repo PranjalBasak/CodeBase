{
  "nbformat": 4,
  "nbformat_minor": 0,
  "metadata": {
    "kernelspec": {
      "display_name": "Python 3",
      "language": "python",
      "name": "python3"
    },
    "language_info": {
      "codemirror_mode": {
        "name": "ipython",
        "version": 3
      },
      "file_extension": ".py",
      "mimetype": "text/x-python",
      "name": "python",
      "nbconvert_exporter": "python",
      "pygments_lexer": "ipython3",
      "version": "3.7.4"
    },
    "colab": {
      "provenance": [],
      "include_colab_link": true
    }
  },
  "cells": [
    {
      "cell_type": "markdown",
      "metadata": {
        "id": "view-in-github",
        "colab_type": "text"
      },
      "source": [
        "<a href=\"https://colab.research.google.com/github/PranjalBasak/CodeBase/blob/main/CSE330/Lab_2_Polynomial_Interpolation_S06.ipynb\" target=\"_parent\"><img src=\"https://colab.research.google.com/assets/colab-badge.svg\" alt=\"Open In Colab\"/></a>"
      ]
    },
    {
      "cell_type": "markdown",
      "metadata": {
        "id": "ix8UYABygxwV"
      },
      "source": [
        "Make sure you remove `raise NotImplementedError()` and fill in any place that says `# YOUR CODE HERE`, as well as your `NAME`, `ID`, and `LAB_SECTION` below:"
      ]
    },
    {
      "cell_type": "code",
      "metadata": {
        "id": "yRMG6NyDgxwa"
      },
      "source": [
        "NAME = \"Pranjal Basak\"\n",
        "ID = \"22301179\"\n",
        "SECTION = \"06\""
      ],
      "execution_count": 1,
      "outputs": []
    },
    {
      "cell_type": "markdown",
      "metadata": {
        "id": "YO3vu3cQgxwc"
      },
      "source": [
        "---"
      ]
    },
    {
      "cell_type": "markdown",
      "metadata": {
        "deletable": false,
        "editable": false,
        "nbgrader": {
          "cell_type": "markdown",
          "checksum": "a1a4b82e1290e7fe207981d775116189",
          "grade": false,
          "grade_id": "part1_intro",
          "locked": true,
          "schema_version": 3,
          "solution": false,
          "task": false
        },
        "id": "6D4EuqaHgxwc"
      },
      "source": [
        "# Part 1: Representing a Polynomial\n",
        "\n",
        "Polynomials are function of the following format\n",
        "\n",
        "$$p(x) = a_0 + a_1 x ^ 1 + a_2 x ^ 2 + ... + a_n x ^ n,$$\n",
        "\n",
        "where, $[a_0, a_1, \\cdots a_n]$ are called coefficients and $n$ (called the degree or order) is a non-negative integer.\n",
        "\n",
        "\n",
        "This can also be written as:\n",
        "\n",
        "$$y = f(x) = a_0 x^0 + a_1 x ^ 1 + a_2 x ^ 2 + ... + a_n x ^ n.$$\n",
        "\n",
        "**Example**\n",
        "$$ y = 1 + 2x^2 + 5x^4 $$ is a polynomial of order 4 ($ = n$) with $n+1$ coeffecients $a_0 = 1, a_1 = 0, a_2 = 2, a_3 = 0, a_4 = 5$"
      ]
    },
    {
      "cell_type": "markdown",
      "metadata": {
        "deletable": false,
        "editable": false,
        "nbgrader": {
          "cell_type": "markdown",
          "checksum": "4768b3ef2708eeb7d4e7834f6871c77b",
          "grade": false,
          "grade_id": "header_list",
          "locked": true,
          "schema_version": 3,
          "solution": false,
          "task": false
        },
        "id": "uUKAl1BBgxwd"
      },
      "source": [
        "**Method 1**: Using List\n",
        "\n",
        "---"
      ]
    },
    {
      "cell_type": "code",
      "metadata": {
        "deletable": false,
        "editable": false,
        "nbgrader": {
          "cell_type": "code",
          "checksum": "a5e0eb4e8aa8fa601c4d5b1f8bb7518a",
          "grade": false,
          "grade_id": "import",
          "locked": true,
          "schema_version": 3,
          "solution": false,
          "task": false
        },
        "id": "6TTFQ7HEgxwd"
      },
      "source": [
        "import matplotlib.pyplot as plt\n",
        "import numpy as np\n",
        "\n",
        "\n",
        "# numpy is used for efficient array (vector or matrix) operations\n",
        "# pyplot is used for plotting\n",
        "# Must read: [https://www.tutorialspoint.com/numpy/numpy_matplotlib.htm]"
      ],
      "execution_count": 2,
      "outputs": []
    },
    {
      "cell_type": "code",
      "metadata": {
        "deletable": false,
        "editable": false,
        "nbgrader": {
          "cell_type": "code",
          "checksum": "a8ec21a0babc1a6a8e9ce264a80fb7a9",
          "grade": false,
          "grade_id": "poly_list",
          "locked": true,
          "schema_version": 3,
          "solution": false,
          "task": false
        },
        "id": "GkHghXVjgxwe"
      },
      "source": [
        "coeff = [2, 1, 2, 0, 5] # coeffecients of the polynomial\n",
        "n = len(coeff) - 1 # degree. Remember: number of coeff = degree + 1\n",
        "\n",
        "'''\n",
        "For a single value of x, finding p(x)\n",
        "\n",
        "Note that this is an example of block comment in python. A block comment\n",
        "starts with three ' and ends with three '.\n",
        "'''\n",
        "\n",
        "x = 6.0\n",
        "p_x = 0.0\n",
        "\n",
        "#Your code HERE\n",
        "\n",
        "\n",
        "x_arr = [1.0, 2.0, 3.0, 4.0, 5.0, 6.0]\n",
        "p_x_arr = []\n",
        "\n",
        "#Your code HERE"
      ],
      "execution_count": null,
      "outputs": []
    },
    {
      "cell_type": "code",
      "source": [],
      "metadata": {
        "id": "U3PYGd0VZHcV"
      },
      "execution_count": null,
      "outputs": []
    },
    {
      "cell_type": "markdown",
      "metadata": {
        "deletable": false,
        "editable": false,
        "nbgrader": {
          "cell_type": "markdown",
          "checksum": "ebd48410397a242a7c85eae3bef2090e",
          "grade": false,
          "grade_id": "header_class",
          "locked": true,
          "schema_version": 3,
          "solution": false,
          "task": false
        },
        "id": "0-q5-L16gxwg"
      },
      "source": [
        "**Method 2 (Better)**: Using a Class\n",
        "\n",
        "---\n",
        "Complete the implementation of the polynomial class as showed in the lecture"
      ]
    },
    {
      "cell_type": "code",
      "metadata": {
        "deletable": false,
        "nbgrader": {
          "cell_type": "code",
          "checksum": "8bc8bdbd42af74922557a6c7c1004dc3",
          "grade": false,
          "grade_id": "part01_ans",
          "locked": false,
          "schema_version": 3,
          "solution": true,
          "task": false
        },
        "id": "cz0rAEdUgxwg"
      },
      "source": [
        "'''\n",
        "Lab task 1\n",
        "Here we implement a Polynomial class with three methods: the constructor\n",
        "__init__(), the toString method __repr__(), and a method to make the objects\n",
        "of the class callable, __call__() method\n",
        "'''\n",
        "\n",
        "# Polynomial Class\n",
        "\n",
        "class Polynomial:\n",
        "  # Constructor, note that it starts and ends with two underscores\n",
        "  def __init__(self, coeff):\n",
        "    '''\n",
        "    Every internal variable of the object must be saved and initialized\n",
        "    in this method: self.variable = value\n",
        "    '''\n",
        "    self.coeff = coeff\n",
        "    self.degree = len(coeff) - 1\n",
        "\n",
        "  # Constructor to make the object callable\n",
        "  def __call__(self, x_arr):\n",
        "    '''\n",
        "    Here we assumed x_arr is a numpy array. Remember that a numpy array acts\n",
        "    like a vector (1D matrix). So an operation x + 1 would add 1 to each element\n",
        "    of the matrix (unlike python's defaule list). Simlarly, x ** 2 would return\n",
        "    element wise square of the array.\n",
        "\n",
        "    Hence, this method would return an array, where the i'th element is the\n",
        "    (polynomial) interpolated value of x[i], given the coeffecients a[i].\n",
        "    '''\n",
        "    p_x_arr = 0\n",
        "    # --------------------------------------------\n",
        "    # HINT: Should look like\n",
        "    # for i in range(self.degree + 1):\n",
        "    #     ????\n",
        "    # --------------------------------------------\n",
        "\n",
        "    # remember 1: length = degree + 1 for a polynomial\n",
        "    # remember 2: range(0, a) is same as range(a)\n",
        "    # remember 3: range(a, b) means a is inclusive, b is exclusive\n",
        "\n",
        "    # --------------------------------------------\n",
        "    # YOUR CODE HERE\n",
        "    raise NotImplementedError()\n",
        "    # --------------------------------------------\n",
        "\n",
        "  # String representation method of the object (similar to toString() of java)\n",
        "  def __repr__(self):\n",
        "    # remember: a formatted string must start with f.\n",
        "\n",
        "    str_ret = f'Polynomial of degree {self.degree}\\np(x) = '\n",
        "    for i in range(self.degree + 1):\n",
        "        a_val = self.coeff[i]\n",
        "        if i != 0:\n",
        "            if a_val >= 0:\n",
        "                str_ret += f'+ {a_val}x^{i} '\n",
        "            else:\n",
        "                str_ret += f'- {-a_val}x^{i} '\n",
        "        else:\n",
        "            str_ret += f'{a_val}x^{i} '\n",
        "\n",
        "    return str_ret\n",
        "\n",
        "  # custom method 1: to get the degree of the polynomial\n",
        "  def get_degree(self):\n",
        "    # --------------------------------------------\n",
        "    # YOUR CODE HERE\n",
        "    raise NotImplementedError()\n",
        "    # --------------------------------------------\n",
        "\n",
        "  # custom method 2: to get the coefficients of the polynomial\n",
        "  def get_coeffs(self):\n",
        "    # --------------------------------------------\n",
        "    # YOUR CODE HERE\n",
        "    raise NotImplementedError()\n",
        "    # --------------------------------------------"
      ],
      "execution_count": null,
      "outputs": []
    },
    {
      "cell_type": "code",
      "metadata": {
        "deletable": false,
        "editable": false,
        "nbgrader": {
          "cell_type": "code",
          "checksum": "a7f2fe5f2eedf93d2e3a5ce5ba099e5b",
          "grade": true,
          "grade_id": "part01_test",
          "locked": true,
          "points": 10,
          "schema_version": 3,
          "solution": false,
          "task": false
        },
        "id": "jnHrzHXygxwi"
      },
      "source": [
        "# test cases for your answer\n",
        "x_arr = np.array([1, 2, 3, 4, 5])\n",
        "\n",
        "coeff = np.array([2.0, 1.0, 2.0, 0.0, 5.0])\n",
        "p = Polynomial(coeff)\n",
        "\n",
        "results = [  10,   92,  428, 1318, 3182]\n",
        "test = p(x_arr)\n",
        "\n",
        "np.testing.assert_array_equal(results, test)"
      ],
      "execution_count": null,
      "outputs": []
    },
    {
      "cell_type": "code",
      "metadata": {
        "deletable": false,
        "editable": false,
        "nbgrader": {
          "cell_type": "code",
          "checksum": "09a4a08e433abc426afdb8aa66175a41",
          "grade": false,
          "grade_id": "sample_output",
          "locked": true,
          "schema_version": 3,
          "solution": false,
          "task": false
        },
        "id": "UgcNqaKFgxwi"
      },
      "source": [
        "# an example to see if our implementation works\n",
        "coeff = np.array([2.0, 1.0, 2.0, 0.0, 5.0])\n",
        "p = Polynomial(coeff)\n",
        "print(p)  # check if printable\n",
        "x_arr = np.array([1, 2, 3, 4, 5])\n",
        "print()\n",
        "print(f\"p({x_arr}) =\", p(x_arr)) # check if the object is callable\n",
        "# should print p([1 2 3 4 5]) =  [  10.   92.  428. 1318. 3182.]"
      ],
      "execution_count": null,
      "outputs": []
    },
    {
      "cell_type": "markdown",
      "metadata": {
        "id": "vuYkYozxgxwi"
      },
      "source": [
        "# Part 2: Polynomial Interpolation (Matrix Method)\n",
        "\n",
        "If we have  $n+1$ nodes, that is,  $\\{(x_0, y_0), (x_1, y_1), (x_2, y_2), (x_{n}, y_{n})\\}$ that satisfies a polynomial of order $n$, it can be written as:\n",
        "\n",
        "\\begin{align}\n",
        "&a_0 + a_1  x_0 + a_2  x_0^2 + \\cdots a_n  + x_0^n = y_0\\\\\n",
        "&a_0 + a_1  x_1 + a_2  x_1^2 + \\cdots a_n  + x_1^n = y_1\\\\\n",
        "&a_0 + a_1  x_2 + a_2  x_2^2 + \\cdots a_n  + x_2^n = y_2\\\\\n",
        "&\\cdots\\\\\n",
        "&a_0 + a_1  x_{n-1} + a_2  x_{n}^2 + \\cdots + a_n  x_{n}^n = y_{n}\\\\\n",
        "\\end{align}\n",
        "\n",
        "Here, $p(x) = a_0 + a_1x^1 + a_2x^2 + \\cdots a_nx^n$ is called the fitted polynomial of the given data points (nodes). Using this polynomial to find the $y_k$ corresponding to an $x_k$ with the range of the given nodes is called polynomial interpolation.\n",
        "\n",
        "In matrix form, the equations can be written as  $$\\mathbf{Xa = y},$$\n",
        "\n",
        "where $\\mathbf{X} = $\n",
        "\n",
        "\\begin{bmatrix}\n",
        "x_0^0 & x_0^1 & x_0^2 & \\cdots & x_0^n\\\\\n",
        "x_1^0 & x_1^1 & x_1^2 & \\cdots & x_1^n\\\\\n",
        "\\vdots & \\vdots & \\vdots & \\ddots & \\vdots\\\\\n",
        "x_n^0 & x_{n}^1 & x_n^2 & \\cdots & x_n^n\\\\\n",
        "\\end{bmatrix}\n",
        "\n",
        "$\\mathbf{a} = $\n",
        "\\begin{bmatrix}\n",
        "a_0\\\\\n",
        "a_1\\\\\n",
        "\\vdots\\\\\n",
        "a_n\n",
        "\\end{bmatrix}\n",
        "\n",
        "and $\\mathbf{y} = $\n",
        "\\begin{bmatrix}\n",
        "y_0\\\\\n",
        "y_1\\\\\n",
        "\\vdots\\\\\n",
        "y_n\n",
        "\\end{bmatrix}\n",
        "\n",
        "From this, we can solve for $\\mathbf{a}$ using\n",
        "$$\\mathbf{a = X^{-1}y}.$$\n",
        "\n"
      ]
    },
    {
      "cell_type": "code",
      "metadata": {
        "deletable": false,
        "nbgrader": {
          "cell_type": "code",
          "checksum": "51d07e5c4f10a9f3567c856d29392422",
          "grade": false,
          "grade_id": "task02_ans",
          "locked": false,
          "schema_version": 3,
          "solution": true,
          "task": false
        },
        "id": "mgS2AYrxgxwj"
      },
      "source": [
        "'''\n",
        "Lab task 2\n",
        "Here we implement a function which takes a discrete x and y array, and returns\n",
        "a Polynomial object (the one we just implemented). This polynomial object can\n",
        "be used to calculate y for any other value of x (not in that list) within the\n",
        "range\n",
        "'''\n",
        "def get_poly(data_x, data_y):\n",
        "    n_nodes = len(data_x)\n",
        "    # np.zeors((a, b)) returns a (a x b) matrix, i.e., a rows and b columns\n",
        "    X = np.zeros((n_nodes, n_nodes))\n",
        "\n",
        "    # Populate the X matrix with appropriate values\n",
        "    # YOUR CODE HERE\n",
        "\n",
        "\n",
        "    raise NotImplementedError()\n",
        "    print(X)\n",
        "    # --------------------------------------------\n",
        "    # np.linalg.inv is used to find the inverse\n",
        "    # but pinv is more efficient\n",
        "    X_inv = np.linalg.pinv(X) # pseudo inverse\n",
        "    a = np.dot(X_inv, data_y)\n",
        "    p = Polynomial(a)\n",
        "\n",
        "    return p"
      ],
      "execution_count": null,
      "outputs": []
    },
    {
      "cell_type": "code",
      "metadata": {
        "deletable": false,
        "editable": false,
        "nbgrader": {
          "cell_type": "code",
          "checksum": "dbd631bf10d397f213423b5fd70a82d7",
          "grade": true,
          "grade_id": "task02_test",
          "locked": true,
          "points": 10,
          "schema_version": 3,
          "solution": false,
          "task": false
        },
        "id": "Jq7J4X7kgxwj"
      },
      "source": [
        "# test cases for your answer\n",
        "data_x = np.array([-3., -2., -1., 0., 1., 3.])\n",
        "data_y = np.array([-90., -13., 6., 1., 5., 18.])\n",
        "p = get_poly(data_x, data_y)\n",
        "\n",
        "results = np.array([-90.,         -83.30765508, -76.8819829,  -70.72379557, -64.83328921,\n",
        " -59.2100643,  -53.8531459,  -48.76100404, -43.93157399, -39.36227655,\n",
        " -35.05003838, -30.9913123, -27.1820976,  -23.61796032, -20.29405359,\n",
        " -17.20513792, -14.34560149, -11.7094805,   -9.29047941,  -7.08199132,\n",
        "  -5.07711821,  -3.26869128, -1.64929127,  -0.2112687,    1.05323572,\n",
        "   2.15227091,   3.09405499,  3.88695506,   4.53946688,   5.06019453,\n",
        "   5.45783013,   5.74113353,  5.91891202,   6.,           5.99323867,\n",
        "   5.90745576,   5.75144519,   5.53394679,   5.26362596,   4.94905341,\n",
        "   4.5986848,    4.22084051,   3.82368525,   3.41520781,   3.00320073,\n",
        "   2.59524002,   2.19866481,   1.8205571,    1.46772141,   1.14666448,\n",
        "   0.86357501,   0.62430327,   0.4343409,    0.2988005,   0.22239539,\n",
        "   0.2094193,    0.26372602,   0.38870917,   0.5872818,    0.86185618,\n",
        "   1.21432341,   1.64603319,   2.15777345,   2.74975008,   3.42156662,\n",
        "   4.17220396,   5.,           5.9026294,    6.87708321,   7.91964864,\n",
        "   9.02588868,  10.19062185,  11.40790184,  12.67099728,  13.97237137,\n",
        "  15.30366157,  16.65565937,  18.01828989,  19.38059166, 20.73069622,\n",
        "  22.05580792,  23.34218353,  24.57511198,  25.73889404,  26.816822,\n",
        "  27.7911594,   28.6431207,  29.35285096,  29.89940558,  30.26072995,\n",
        "  30.41363916,  30.33379771,  29.99569918,  29.37264593,  28.43672882,\n",
        "  27.15880687,  25.50848696,  23.45410355,  20.96269834,  18.        ])\n",
        "\n",
        "x_arr = np.linspace(-3, 3, 100)\n",
        "test = p(x_arr)\n",
        "\n",
        "np.testing.assert_array_almost_equal(test, results)"
      ],
      "execution_count": null,
      "outputs": []
    },
    {
      "cell_type": "code",
      "metadata": {
        "deletable": false,
        "editable": false,
        "nbgrader": {
          "cell_type": "code",
          "checksum": "277c42ed406022472573b16fb698714a",
          "grade": false,
          "grade_id": "plot",
          "locked": true,
          "schema_version": 3,
          "solution": false,
          "task": false
        },
        "id": "iCGAl18agxwk"
      },
      "source": [
        "data_x = np.array([-3., -2., -1., 0., 1., 3.])\n",
        "data_y = np.array([-90., -13., 6., 1., 5., 18.])\n",
        "p = get_poly(data_x, data_y)\n",
        "'''\n",
        "np.linspace(a, b, n) returns a numpy array of n points equally\n",
        "spaced from a to b\n",
        "'''\n",
        "x_arr = np.linspace(-3, 3, 100)\n",
        "# interpolated values\n",
        "y_interp = p(x_arr)\n",
        "\n",
        "# pyplot is used for plotting\n",
        "# Must read: [https://www.tutorialspoint.com/numpy/numpy_matplotlib.htm]\n",
        "\n",
        "plt.plot(x_arr, y_interp, 'b')\n",
        "plt.plot(data_x, data_y, 'g*')\n",
        "plt.xlabel('x - axis')\n",
        "plt.ylabel('y - axis')\n",
        "\n",
        "\n",
        "plt.show()"
      ],
      "execution_count": null,
      "outputs": []
    },
    {
      "cell_type": "markdown",
      "source": [
        "**Problem related Polynomial interpolation:**\n",
        "\n",
        "Suppose, you have three nodes (-0.5, 1.87), (0, 2.20), (0.5, 2.44). Using Vandermonde Matrix method, print out the value of the interpolating polynomial at x = 6.\n",
        "You have to solve the given problem using above implemented **get_poly()** method."
      ],
      "metadata": {
        "id": "S9UWuS3286gJ"
      }
    },
    {
      "cell_type": "code",
      "metadata": {
        "id": "hJXjy663gxwk"
      },
      "source": [
        "#Write your code here"
      ],
      "execution_count": null,
      "outputs": []
    }
  ]
}